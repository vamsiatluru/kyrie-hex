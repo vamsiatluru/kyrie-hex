{
 "cells": [
  {
   "cell_type": "code",
   "execution_count": 3,
   "metadata": {},
   "outputs": [],
   "source": [
    "import pandas as pd\n",
    "import numpy as np\n",
    "from matplotlib.patches import Polygon\n",
    "from matplotlib.collections import PatchCollection\n",
    "from matplotlib.colors import LinearSegmentedColormap\n",
    "import matplotlib.pyplot as plt\n",
    "from scipy import misc\n",
    "\n",
    "%matplotlib inline"
   ]
  },
  {
   "cell_type": "code",
   "execution_count": 4,
   "metadata": {},
   "outputs": [],
   "source": [
    "def shot_zone(X,Y):\n",
    "    '''\n",
    "    Uses shot coordinates x and y (in feet - divide by 10 if using the shotchart units)\n",
    "    and returns a tuple with the zone location\n",
    "    '''\n",
    "    r = np.sqrt(X**2+Y**2)\n",
    "    a = np.arctan2(Y,X)*180.0/np.pi\n",
    "    if (Y<0) & (X > 0):\n",
    "        a = 0\n",
    "    elif (Y<0) & (X < 0):\n",
    "        a = 180\n",
    "    if r<=8:\n",
    "        z = ('Less Than 8 ft.','Center(C)')\n",
    "    elif (r>8) & (r<=16):\n",
    "        if a < 60:\n",
    "            z = ('8-16 ft.','Right Side(R)')\n",
    "        elif (a>=60) & (a<=120):\n",
    "            z = ('8-16 ft.','Center(C)')\n",
    "        else:\n",
    "            z = ('8-16 ft.','Left Side(L)')\n",
    "    elif (r>16) & (r<=23.75):\n",
    "        if a < 36:\n",
    "            z = ('16-24 ft.','Right Side(R)')\n",
    "        elif (a>=36) & (a<72):\n",
    "            z = ('16-24 ft.','Right Side Center(RC)')\n",
    "        elif (a>=72) & (a<=108):\n",
    "            z = ('16-24 ft.','Center(C)')\n",
    "        elif (a>108) & (a<144):\n",
    "            z = ('16-24 ft.','Left Side Center(LC)')\n",
    "        else:\n",
    "            z = ('16-24 ft.','Left Side(L)')\n",
    "    elif r>23.75:\n",
    "        if a < 72:\n",
    "            z = ('24+ ft.','Right Side Center(RC)')\n",
    "        elif (a>=72) & (a<=108):\n",
    "            z = ('24+ ft.','Center(C)')\n",
    "        else:\n",
    "            z = ('24+ ft.','Left Side Center(LC)')\n",
    "    if (np.abs(X)>=22):\n",
    "        if (X > 0) & (np.abs(Y)<8.75):\n",
    "            z = ('24+ ft.','Right Side(R)')\n",
    "        elif (X < 0) & (np.abs(Y)<8.75):\n",
    "            z = ('24+ ft.','Left Side(L)')\n",
    "        elif (X > 0) & (np.abs(Y)>=8.75):\n",
    "            z = ('24+ ft.','Right Side Center(RC)')\n",
    "        elif (X < 0) & (np.abs(Y)>=8.75):\n",
    "            z = ('24+ ft.','Left Side Center(LC)')\n",
    "    if Y >= 40:\n",
    "        z = ('Back Court Shot', 'Back Court(BC)')\n",
    "    return z"
   ]
  },
  {
   "cell_type": "code",
   "execution_count": null,
   "metadata": {},
   "outputs": [],
   "source": []
  }
 ],
 "metadata": {
  "kernelspec": {
   "display_name": "Python 3",
   "language": "python",
   "name": "python3"
  },
  "language_info": {
   "codemirror_mode": {
    "name": "ipython",
    "version": 3
   },
   "file_extension": ".py",
   "mimetype": "text/x-python",
   "name": "python",
   "nbconvert_exporter": "python",
   "pygments_lexer": "ipython3",
   "version": "3.6.4"
  }
 },
 "nbformat": 4,
 "nbformat_minor": 2
}
